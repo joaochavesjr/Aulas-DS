{
 "cells": [
  {
   "cell_type": "code",
   "execution_count": 1,
   "id": "ce6ecb72-a4f2-4028-bbaa-ab3fea38d16d",
   "metadata": {},
   "outputs": [],
   "source": [
    "import pandas as pd\n",
    "import matplotlib.pyplot as plt"
   ]
  },
  {
   "cell_type": "code",
   "execution_count": 2,
   "id": "5eae38a9-4f50-4383-8b34-623a921d9cd0",
   "metadata": {},
   "outputs": [],
   "source": [
    "dados = pd.read_csv('redesocial.csv')"
   ]
  },
  {
   "cell_type": "code",
   "execution_count": null,
   "id": "ae69a7fb-e57c-4843-8d03-98e79213fa44",
   "metadata": {},
   "outputs": [],
   "source": [
    "dados.head()"
   ]
  },
  {
   "cell_type": "code",
   "execution_count": null,
   "id": "8a3fcd4b-817b-4ff2-942f-f929cd9231d2",
   "metadata": {},
   "outputs": [],
   "source": [
    "plt.figure(figsize=(8, 5))\n",
    "plt.bar(dados[\"Rede Social\"], dados[\"Contagem\"], color='navy', edgecolor='black')\n",
    "plt.title(\"Prefefência de Rede Social\", fontsize=14)\n",
    "plt.xlabel(\"Rede Social\", fontsize=12)\n",
    "plt.ylabel(\"Contagem\", fontsize=12)"
   ]
  },
  {
   "cell_type": "code",
   "execution_count": null,
   "id": "4e17e495-e246-4c4d-aebf-bd0164cd07f4",
   "metadata": {},
   "outputs": [],
   "source": []
  }
 ],
 "metadata": {
  "kernelspec": {
   "display_name": "Python 3 (ipykernel)",
   "language": "python",
   "name": "python3"
  },
  "language_info": {
   "codemirror_mode": {
    "name": "ipython",
    "version": 3
   },
   "file_extension": ".py",
   "mimetype": "text/x-python",
   "name": "python",
   "nbconvert_exporter": "python",
   "pygments_lexer": "ipython3",
   "version": "3.13.5"
  }
 },
 "nbformat": 4,
 "nbformat_minor": 5
}
