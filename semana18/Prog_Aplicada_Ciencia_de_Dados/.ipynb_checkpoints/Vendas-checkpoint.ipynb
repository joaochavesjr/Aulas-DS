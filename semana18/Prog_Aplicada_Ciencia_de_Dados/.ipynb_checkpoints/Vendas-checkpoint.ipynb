{
 "cells": [
  {
   "cell_type": "code",
   "execution_count": null,
   "id": "f2eaa15b-9074-49e4-b672-9b7c015e53a8",
   "metadata": {},
   "outputs": [],
   "source": [
    "import pandas as pd\n",
    "import matplotlib.pyplot as plt"
   ]
  },
  {
   "cell_type": "code",
   "execution_count": null,
   "id": "a37418ac-21df-4936-a175-a5f672c1ee6c",
   "metadata": {},
   "outputs": [],
   "source": [
    "dados = {\n",
    "    \"Mês\": [\"Jan\", \"Fev\", \"Mar\", \"Abr\", \"Mai\", \"Jun\"],\n",
    "    \"Vendas\": [1500, 2300, 1800, 2000, 2100, 2500]\n",
    "}\n",
    "\n",
    "df = pd.DataFrame(dados)"
   ]
  },
  {
   "cell_type": "code",
   "execution_count": null,
   "id": "c15faedf-bd01-402e-9ced-851bc4e403f9",
   "metadata": {},
   "outputs": [],
   "source": [
    "print(\"Visualizando o DataFrame:\")\n",
    "print(df.head())"
   ]
  },
  {
   "cell_type": "code",
   "execution_count": null,
   "id": "aa254eef-720e-4db2-9ff5-62cbd6b5501e",
   "metadata": {},
   "outputs": [],
   "source": [
    "# Estatísticas descritivas\n",
    "print(\"\\nEstatísticas descritivas:\")\n",
    "print(df[\"Vendas\"].describe())"
   ]
  },
  {
   "cell_type": "code",
   "execution_count": null,
   "id": "eee65eba-f2d9-4027-9570-2d9b3da1c204",
   "metadata": {},
   "outputs": [],
   "source": [
    "df['Vendas']"
   ]
  },
  {
   "cell_type": "code",
   "execution_count": null,
   "id": "3d9921e9-7674-4c60-ba33-b9e57e3d5bee",
   "metadata": {},
   "outputs": [],
   "source": [
    "plt.figure(figsize=(8, 5))\n",
    "plt.title(\"Vendas Mensais\", fontsize=14)\n",
    "plt.xlabel(\"Mês\", fontsize=12)\n",
    "plt.ylabel(\"Vendas (R$)\", fontsize=12)\n",
    "for i, valor in enumerate(df[\"Vendas\"]):\n",
    "    plt.text(i, valor + 50, str(valor), ha='center')\n",
    "plt.plot(df[\"Mês\"], df[\"Vendas\"], marker='o', color='blue', linewidth=2)\n",
    "plt.grid(True, linestyle='--', alpha=0.5)\n",
    "plt.tight_layout()\n",
    "plt.show()"
   ]
  },
  {
   "cell_type": "code",
   "execution_count": null,
   "id": "e38ecad7-ca07-4ef6-bc30-c5bf3af6f275",
   "metadata": {},
   "outputs": [],
   "source": []
  }
 ],
 "metadata": {
  "kernelspec": {
   "display_name": "Python 3 (ipykernel)",
   "language": "python",
   "name": "python3"
  },
  "language_info": {
   "codemirror_mode": {
    "name": "ipython",
    "version": 3
   },
   "file_extension": ".py",
   "mimetype": "text/x-python",
   "name": "python",
   "nbconvert_exporter": "python",
   "pygments_lexer": "ipython3",
   "version": "3.13.5"
  }
 },
 "nbformat": 4,
 "nbformat_minor": 5
}
