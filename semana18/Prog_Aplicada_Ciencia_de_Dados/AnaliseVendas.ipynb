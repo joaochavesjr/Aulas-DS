{
 "cells": [
  {
   "cell_type": "code",
   "execution_count": 1,
   "id": "bd3ff292-910e-479f-af9c-8d78f8fbe2ae",
   "metadata": {},
   "outputs": [],
   "source": [
    "import pandas as pd\n",
    "import matplotlib.pyplot as plt"
   ]
  },
  {
   "cell_type": "code",
   "execution_count": 2,
   "id": "de0c890a-d243-4030-a84e-e21dbe9fa884",
   "metadata": {},
   "outputs": [],
   "source": [
    "dados = {\n",
    "    \"Mes\": [\"Jan\", \"Fev\", \"Mar\", \"Abr\", \"Mai\", \"Jun\", \"Jul\", \"Ago\", \"Set\", \"Out\", \"Nov\", \"Dez\"],\n",
    "    \"Vendas\": [1500, 2300, None, 2000, 2100, 2500, 2700, None, 3000, 3200, 3100, 3300]\n",
    "}\n",
    "\n",
    "df = pd.DataFrame(dados)"
   ]
  },
  {
   "cell_type": "code",
   "execution_count": 3,
   "id": "cb7ba439-bb7d-4452-a2e2-fe338d80ce03",
   "metadata": {},
   "outputs": [
    {
     "name": "stdout",
     "output_type": "stream",
     "text": [
      "Visualização inicial dos dados:\n",
      "    Mes  Vendas\n",
      "0   Jan  1500.0\n",
      "1   Fev  2300.0\n",
      "2   Mar     NaN\n",
      "3   Abr  2000.0\n",
      "4   Mai  2100.0\n",
      "5   Jun  2500.0\n",
      "6   Jul  2700.0\n",
      "7   Ago     NaN\n",
      "8   Set  3000.0\n",
      "9   Out  3200.0\n",
      "10  Nov  3100.0\n",
      "11  Dez  3300.0\n"
     ]
    }
   ],
   "source": [
    "print(\"Visualização inicial dos dados:\")\n",
    "print(df)"
   ]
  },
  {
   "cell_type": "code",
   "execution_count": 4,
   "id": "a7757d1d-5ccd-4cfe-815b-4d510ed4966c",
   "metadata": {},
   "outputs": [
    {
     "name": "stdout",
     "output_type": "stream",
     "text": [
      "\n",
      "Estatísticas:\n",
      "            Vendas\n",
      "count    10.000000\n",
      "mean   2570.000000\n",
      "std     594.511938\n",
      "min    1500.000000\n",
      "25%    2150.000000\n",
      "50%    2600.000000\n",
      "75%    3075.000000\n",
      "max    3300.000000\n"
     ]
    }
   ],
   "source": [
    "print(\"\\nEstatísticas:\")\n",
    "print(df.describe())"
   ]
  },
  {
   "cell_type": "code",
   "execution_count": 5,
   "id": "65cf0a82-584c-4458-b736-43049dba1842",
   "metadata": {},
   "outputs": [
    {
     "name": "stdout",
     "output_type": "stream",
     "text": [
      "\n",
      "Valores nulos por coluna:\n",
      "Mes       0\n",
      "Vendas    2\n",
      "dtype: int64\n"
     ]
    }
   ],
   "source": [
    "print(\"\\nValores nulos por coluna:\")\n",
    "print(df.isnull().sum())"
   ]
  },
  {
   "cell_type": "code",
   "execution_count": 6,
   "id": "4c985efb-c449-4790-b9f0-495d8afe5d23",
   "metadata": {},
   "outputs": [
    {
     "name": "stdout",
     "output_type": "stream",
     "text": [
      "\n",
      "Dados após tratamento de nulos:\n",
      "    Mes  Vendas\n",
      "0   Jan  1500.0\n",
      "1   Fev  2300.0\n",
      "2   Mar  2570.0\n",
      "3   Abr  2000.0\n",
      "4   Mai  2100.0\n",
      "5   Jun  2500.0\n",
      "6   Jul  2700.0\n",
      "7   Ago  2570.0\n",
      "8   Set  3000.0\n",
      "9   Out  3200.0\n",
      "10  Nov  3100.0\n",
      "11  Dez  3300.0\n"
     ]
    },
    {
     "name": "stderr",
     "output_type": "stream",
     "text": [
      "/var/folders/w0/g6qvq1cd2pd1ysgj_2w08rz80000gn/T/ipykernel_22776/3730284263.py:2: FutureWarning: A value is trying to be set on a copy of a DataFrame or Series through chained assignment using an inplace method.\n",
      "The behavior will change in pandas 3.0. This inplace method will never work because the intermediate object on which we are setting values always behaves as a copy.\n",
      "\n",
      "For example, when doing 'df[col].method(value, inplace=True)', try using 'df.method({col: value}, inplace=True)' or df[col] = df[col].method(value) instead, to perform the operation inplace on the original object.\n",
      "\n",
      "\n",
      "  df[\"Vendas\"].fillna(media_vendas, inplace=True)\n"
     ]
    }
   ],
   "source": [
    "media_vendas = df[\"Vendas\"].mean()\n",
    "df[\"Vendas\"].fillna(media_vendas, inplace=True)\n",
    "\n",
    "print(\"\\nDados após tratamento de nulos:\")\n",
    "print(df)"
   ]
  },
  {
   "cell_type": "code",
   "execution_count": null,
   "id": "4998b033-9e6f-4166-b65c-a1aeffa6bd2b",
   "metadata": {
    "scrolled": true
   },
   "outputs": [],
   "source": [
    "plt.figure(figsize=(10, 5))\n",
    "plt.plot(df[\"Mes\"], df[\"Vendas\"], marker='o', color='blue', linewidth=2)\n",
    "\n",
    "# Títulos e rótulos\n",
    "plt.title(\"Vendas Mensais - 2024\", fontsize=16)\n",
    "plt.xlabel(\"Mês\", fontsize=12)\n",
    "plt.ylabel(\"Vendas (R$)\", fontsize=12)\n",
    "\n",
    "# Mostrar valores em cada ponto\n",
    "for i, valor in enumerate(df[\"Vendas\"]):\n",
    "    plt.text(i, valor + 50, f\"{valor:.0f}\", ha='center')\n",
    "\n",
    "plt.grid(True, linestyle='--', alpha=0.5)\n",
    "plt.tight_layout()\n",
    "plt.show()"
   ]
  },
  {
   "cell_type": "code",
   "execution_count": null,
   "id": "9f15af67-59b4-477d-bf21-d22642cd196e",
   "metadata": {},
   "outputs": [],
   "source": []
  }
 ],
 "metadata": {
  "kernelspec": {
   "display_name": "Python 3 (ipykernel)",
   "language": "python",
   "name": "python3"
  },
  "language_info": {
   "codemirror_mode": {
    "name": "ipython",
    "version": 3
   },
   "file_extension": ".py",
   "mimetype": "text/x-python",
   "name": "python",
   "nbconvert_exporter": "python",
   "pygments_lexer": "ipython3",
   "version": "3.13.5"
  }
 },
 "nbformat": 4,
 "nbformat_minor": 5
}
